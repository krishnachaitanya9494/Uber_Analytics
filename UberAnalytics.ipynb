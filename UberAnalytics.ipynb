{
 "cells": [
  {
   "cell_type": "code",
   "id": "initial_id",
   "metadata": {
    "collapsed": true,
    "ExecuteTime": {
     "end_time": "2025-10-05T03:45:56.392781Z",
     "start_time": "2025-10-05T03:45:35.199962Z"
    }
   },
   "source": "import pandas as pd",
   "outputs": [],
   "execution_count": 2
  },
  {
   "metadata": {
    "ExecuteTime": {
     "end_time": "2025-10-05T03:47:14.935062Z",
     "start_time": "2025-10-05T03:47:14.884314Z"
    }
   },
   "cell_type": "code",
   "source": [
    "df = pd.read_csv(r\"D:\\datasets\\kaggle\\uber\\UberDataset.csv\")\n",
    "\n",
    "df.head()"
   ],
   "id": "e22982f8e48a5499",
   "outputs": [
    {
     "data": {
      "text/plain": [
       "         START_DATE          END_DATE  CATEGORY        START             STOP  \\\n",
       "0  01-01-2016 21:11  01-01-2016 21:17  Business  Fort Pierce      Fort Pierce   \n",
       "1  01-02-2016 01:25  01-02-2016 01:37  Business  Fort Pierce      Fort Pierce   \n",
       "2  01-02-2016 20:25  01-02-2016 20:38  Business  Fort Pierce      Fort Pierce   \n",
       "3  01-05-2016 17:31  01-05-2016 17:45  Business  Fort Pierce      Fort Pierce   \n",
       "4  01-06-2016 14:42  01-06-2016 15:49  Business  Fort Pierce  West Palm Beach   \n",
       "\n",
       "   MILES          PURPOSE  \n",
       "0    5.1   Meal/Entertain  \n",
       "1    5.0              NaN  \n",
       "2    4.8  Errand/Supplies  \n",
       "3    4.7          Meeting  \n",
       "4   63.7   Customer Visit  "
      ],
      "text/html": [
       "<div>\n",
       "<style scoped>\n",
       "    .dataframe tbody tr th:only-of-type {\n",
       "        vertical-align: middle;\n",
       "    }\n",
       "\n",
       "    .dataframe tbody tr th {\n",
       "        vertical-align: top;\n",
       "    }\n",
       "\n",
       "    .dataframe thead th {\n",
       "        text-align: right;\n",
       "    }\n",
       "</style>\n",
       "<table border=\"1\" class=\"dataframe\">\n",
       "  <thead>\n",
       "    <tr style=\"text-align: right;\">\n",
       "      <th></th>\n",
       "      <th>START_DATE</th>\n",
       "      <th>END_DATE</th>\n",
       "      <th>CATEGORY</th>\n",
       "      <th>START</th>\n",
       "      <th>STOP</th>\n",
       "      <th>MILES</th>\n",
       "      <th>PURPOSE</th>\n",
       "    </tr>\n",
       "  </thead>\n",
       "  <tbody>\n",
       "    <tr>\n",
       "      <th>0</th>\n",
       "      <td>01-01-2016 21:11</td>\n",
       "      <td>01-01-2016 21:17</td>\n",
       "      <td>Business</td>\n",
       "      <td>Fort Pierce</td>\n",
       "      <td>Fort Pierce</td>\n",
       "      <td>5.1</td>\n",
       "      <td>Meal/Entertain</td>\n",
       "    </tr>\n",
       "    <tr>\n",
       "      <th>1</th>\n",
       "      <td>01-02-2016 01:25</td>\n",
       "      <td>01-02-2016 01:37</td>\n",
       "      <td>Business</td>\n",
       "      <td>Fort Pierce</td>\n",
       "      <td>Fort Pierce</td>\n",
       "      <td>5.0</td>\n",
       "      <td>NaN</td>\n",
       "    </tr>\n",
       "    <tr>\n",
       "      <th>2</th>\n",
       "      <td>01-02-2016 20:25</td>\n",
       "      <td>01-02-2016 20:38</td>\n",
       "      <td>Business</td>\n",
       "      <td>Fort Pierce</td>\n",
       "      <td>Fort Pierce</td>\n",
       "      <td>4.8</td>\n",
       "      <td>Errand/Supplies</td>\n",
       "    </tr>\n",
       "    <tr>\n",
       "      <th>3</th>\n",
       "      <td>01-05-2016 17:31</td>\n",
       "      <td>01-05-2016 17:45</td>\n",
       "      <td>Business</td>\n",
       "      <td>Fort Pierce</td>\n",
       "      <td>Fort Pierce</td>\n",
       "      <td>4.7</td>\n",
       "      <td>Meeting</td>\n",
       "    </tr>\n",
       "    <tr>\n",
       "      <th>4</th>\n",
       "      <td>01-06-2016 14:42</td>\n",
       "      <td>01-06-2016 15:49</td>\n",
       "      <td>Business</td>\n",
       "      <td>Fort Pierce</td>\n",
       "      <td>West Palm Beach</td>\n",
       "      <td>63.7</td>\n",
       "      <td>Customer Visit</td>\n",
       "    </tr>\n",
       "  </tbody>\n",
       "</table>\n",
       "</div>"
      ]
     },
     "execution_count": 4,
     "metadata": {},
     "output_type": "execute_result"
    }
   ],
   "execution_count": 4
  },
  {
   "metadata": {
    "ExecuteTime": {
     "end_time": "2025-10-05T05:55:00.937834Z",
     "start_time": "2025-10-05T05:55:00.921774Z"
    }
   },
   "cell_type": "code",
   "source": "df.info()",
   "id": "186a7e610e93514b",
   "outputs": [
    {
     "name": "stdout",
     "output_type": "stream",
     "text": [
      "<class 'pandas.core.frame.DataFrame'>\n",
      "RangeIndex: 1156 entries, 0 to 1155\n",
      "Data columns (total 7 columns):\n",
      " #   Column      Non-Null Count  Dtype  \n",
      "---  ------      --------------  -----  \n",
      " 0   START_DATE  1156 non-null   object \n",
      " 1   END_DATE    1155 non-null   object \n",
      " 2   CATEGORY    1155 non-null   object \n",
      " 3   START       1155 non-null   object \n",
      " 4   STOP        1155 non-null   object \n",
      " 5   MILES       1156 non-null   float64\n",
      " 6   PURPOSE     653 non-null    object \n",
      "dtypes: float64(1), object(6)\n",
      "memory usage: 63.3+ KB\n"
     ]
    }
   ],
   "execution_count": 5
  },
  {
   "metadata": {
    "ExecuteTime": {
     "end_time": "2025-10-05T05:58:49.664776Z",
     "start_time": "2025-10-05T05:58:49.652437Z"
    }
   },
   "cell_type": "code",
   "source": "df['PURPOSE'].isnull().sum()",
   "id": "51451b5012ffb972",
   "outputs": [
    {
     "data": {
      "text/plain": [
       "np.int64(503)"
      ]
     },
     "execution_count": 9,
     "metadata": {},
     "output_type": "execute_result"
    }
   ],
   "execution_count": 9
  },
  {
   "metadata": {
    "ExecuteTime": {
     "end_time": "2025-10-05T05:59:24.818177Z",
     "start_time": "2025-10-05T05:59:24.812605Z"
    }
   },
   "cell_type": "code",
   "source": [
    "#there is a misisng data in the column PURPOSE\n",
    "df['PURPOSE'] = df['PURPOSE'].fillna('Missing_val')"
   ],
   "id": "49488cb7b5a0d1a4",
   "outputs": [],
   "execution_count": 10
  },
  {
   "metadata": {
    "ExecuteTime": {
     "end_time": "2025-10-05T05:59:32.238613Z",
     "start_time": "2025-10-05T05:59:32.225720Z"
    }
   },
   "cell_type": "code",
   "source": "df.info()",
   "id": "5b38f97131089754",
   "outputs": [
    {
     "name": "stdout",
     "output_type": "stream",
     "text": [
      "<class 'pandas.core.frame.DataFrame'>\n",
      "RangeIndex: 1156 entries, 0 to 1155\n",
      "Data columns (total 7 columns):\n",
      " #   Column      Non-Null Count  Dtype  \n",
      "---  ------      --------------  -----  \n",
      " 0   START_DATE  1156 non-null   object \n",
      " 1   END_DATE    1155 non-null   object \n",
      " 2   CATEGORY    1155 non-null   object \n",
      " 3   START       1155 non-null   object \n",
      " 4   STOP        1155 non-null   object \n",
      " 5   MILES       1156 non-null   float64\n",
      " 6   PURPOSE     1156 non-null   object \n",
      "dtypes: float64(1), object(6)\n",
      "memory usage: 63.3+ KB\n"
     ]
    }
   ],
   "execution_count": 11
  },
  {
   "metadata": {
    "ExecuteTime": {
     "end_time": "2025-10-05T06:13:04.274325Z",
     "start_time": "2025-10-05T06:13:04.211107Z"
    }
   },
   "cell_type": "code",
   "source": [
    "df['START_DATE'] = pd.to_datetime(df['START_DATE'] , errors='coerce')\n",
    "df['END_DATE'] = pd.to_datetime(df['END_DATE'] , errors='coerce')\n",
    "df.info()\n",
    "df['DURATION ']  = df['DURATION'].fillna(df['END_DATE'] - df['START_DATE'])\n",
    "df.info()\n",
    "print(df.columns)"
   ],
   "id": "94cb5d68b6c5a6d4",
   "outputs": [
    {
     "name": "stdout",
     "output_type": "stream",
     "text": [
      "<class 'pandas.core.frame.DataFrame'>\n",
      "RangeIndex: 1156 entries, 0 to 1155\n",
      "Data columns (total 8 columns):\n",
      " #   Column      Non-Null Count  Dtype          \n",
      "---  ------      --------------  -----          \n",
      " 0   START_DATE  421 non-null    datetime64[ns] \n",
      " 1   END_DATE    420 non-null    datetime64[ns] \n",
      " 2   CATEGORY    1155 non-null   object         \n",
      " 3   START       1155 non-null   object         \n",
      " 4   STOP        1155 non-null   object         \n",
      " 5   MILES       1156 non-null   float64        \n",
      " 6   PURPOSE     1156 non-null   object         \n",
      " 7   DURATION    420 non-null    timedelta64[ns]\n",
      "dtypes: datetime64[ns](2), float64(1), object(4), timedelta64[ns](1)\n",
      "memory usage: 72.4+ KB\n",
      "<class 'pandas.core.frame.DataFrame'>\n",
      "RangeIndex: 1156 entries, 0 to 1155\n",
      "Data columns (total 9 columns):\n",
      " #   Column      Non-Null Count  Dtype          \n",
      "---  ------      --------------  -----          \n",
      " 0   START_DATE  421 non-null    datetime64[ns] \n",
      " 1   END_DATE    420 non-null    datetime64[ns] \n",
      " 2   CATEGORY    1155 non-null   object         \n",
      " 3   START       1155 non-null   object         \n",
      " 4   STOP        1155 non-null   object         \n",
      " 5   MILES       1156 non-null   float64        \n",
      " 6   PURPOSE     1156 non-null   object         \n",
      " 7   DURATION    420 non-null    timedelta64[ns]\n",
      " 8   DURATION    420 non-null    timedelta64[ns]\n",
      "dtypes: datetime64[ns](2), float64(1), object(4), timedelta64[ns](2)\n",
      "memory usage: 81.4+ KB\n",
      "Index(['START_DATE', 'END_DATE', 'CATEGORY', 'START', 'STOP', 'MILES',\n",
      "       'PURPOSE', 'DURATION', 'DURATION '],\n",
      "      dtype='object')\n"
     ]
    }
   ],
   "execution_count": 25
  },
  {
   "metadata": {
    "ExecuteTime": {
     "end_time": "2025-10-05T06:13:10.225229Z",
     "start_time": "2025-10-05T06:13:10.199231Z"
    }
   },
   "cell_type": "code",
   "source": "df.describe()",
   "id": "9695eb331fbe0e48",
   "outputs": [
    {
     "data": {
      "text/plain": [
       "                          START_DATE                       END_DATE  \\\n",
       "count                            421                            420   \n",
       "mean   2016-07-01 12:31:09.976247040  2016-07-01 12:11:10.142857216   \n",
       "min              2016-01-01 21:11:00            2016-01-01 21:17:00   \n",
       "25%              2016-04-01 13:43:00            2016-03-27 15:10:00   \n",
       "50%              2016-07-04 18:23:00            2016-07-04 18:19:00   \n",
       "75%              2016-10-10 17:22:00            2016-10-10 17:39:15   \n",
       "max              2016-12-12 20:48:00            2016-12-12 20:57:00   \n",
       "std                              NaN                            NaN   \n",
       "\n",
       "              MILES                   DURATION                  DURATION   \n",
       "count   1156.000000                        420                        420  \n",
       "mean      21.115398  0 days 00:19:19.571428571  0 days 00:19:19.571428571  \n",
       "min        0.500000            0 days 00:00:00            0 days 00:00:00  \n",
       "25%        2.900000            0 days 00:09:00            0 days 00:09:00  \n",
       "50%        6.000000            0 days 00:15:00            0 days 00:15:00  \n",
       "75%       10.400000            0 days 00:22:15            0 days 00:22:15  \n",
       "max    12204.700000            0 days 02:58:00            0 days 02:58:00  \n",
       "std      359.299007  0 days 00:19:09.334894164  0 days 00:19:09.334894164  "
      ],
      "text/html": [
       "<div>\n",
       "<style scoped>\n",
       "    .dataframe tbody tr th:only-of-type {\n",
       "        vertical-align: middle;\n",
       "    }\n",
       "\n",
       "    .dataframe tbody tr th {\n",
       "        vertical-align: top;\n",
       "    }\n",
       "\n",
       "    .dataframe thead th {\n",
       "        text-align: right;\n",
       "    }\n",
       "</style>\n",
       "<table border=\"1\" class=\"dataframe\">\n",
       "  <thead>\n",
       "    <tr style=\"text-align: right;\">\n",
       "      <th></th>\n",
       "      <th>START_DATE</th>\n",
       "      <th>END_DATE</th>\n",
       "      <th>MILES</th>\n",
       "      <th>DURATION</th>\n",
       "      <th>DURATION</th>\n",
       "    </tr>\n",
       "  </thead>\n",
       "  <tbody>\n",
       "    <tr>\n",
       "      <th>count</th>\n",
       "      <td>421</td>\n",
       "      <td>420</td>\n",
       "      <td>1156.000000</td>\n",
       "      <td>420</td>\n",
       "      <td>420</td>\n",
       "    </tr>\n",
       "    <tr>\n",
       "      <th>mean</th>\n",
       "      <td>2016-07-01 12:31:09.976247040</td>\n",
       "      <td>2016-07-01 12:11:10.142857216</td>\n",
       "      <td>21.115398</td>\n",
       "      <td>0 days 00:19:19.571428571</td>\n",
       "      <td>0 days 00:19:19.571428571</td>\n",
       "    </tr>\n",
       "    <tr>\n",
       "      <th>min</th>\n",
       "      <td>2016-01-01 21:11:00</td>\n",
       "      <td>2016-01-01 21:17:00</td>\n",
       "      <td>0.500000</td>\n",
       "      <td>0 days 00:00:00</td>\n",
       "      <td>0 days 00:00:00</td>\n",
       "    </tr>\n",
       "    <tr>\n",
       "      <th>25%</th>\n",
       "      <td>2016-04-01 13:43:00</td>\n",
       "      <td>2016-03-27 15:10:00</td>\n",
       "      <td>2.900000</td>\n",
       "      <td>0 days 00:09:00</td>\n",
       "      <td>0 days 00:09:00</td>\n",
       "    </tr>\n",
       "    <tr>\n",
       "      <th>50%</th>\n",
       "      <td>2016-07-04 18:23:00</td>\n",
       "      <td>2016-07-04 18:19:00</td>\n",
       "      <td>6.000000</td>\n",
       "      <td>0 days 00:15:00</td>\n",
       "      <td>0 days 00:15:00</td>\n",
       "    </tr>\n",
       "    <tr>\n",
       "      <th>75%</th>\n",
       "      <td>2016-10-10 17:22:00</td>\n",
       "      <td>2016-10-10 17:39:15</td>\n",
       "      <td>10.400000</td>\n",
       "      <td>0 days 00:22:15</td>\n",
       "      <td>0 days 00:22:15</td>\n",
       "    </tr>\n",
       "    <tr>\n",
       "      <th>max</th>\n",
       "      <td>2016-12-12 20:48:00</td>\n",
       "      <td>2016-12-12 20:57:00</td>\n",
       "      <td>12204.700000</td>\n",
       "      <td>0 days 02:58:00</td>\n",
       "      <td>0 days 02:58:00</td>\n",
       "    </tr>\n",
       "    <tr>\n",
       "      <th>std</th>\n",
       "      <td>NaN</td>\n",
       "      <td>NaN</td>\n",
       "      <td>359.299007</td>\n",
       "      <td>0 days 00:19:09.334894164</td>\n",
       "      <td>0 days 00:19:09.334894164</td>\n",
       "    </tr>\n",
       "  </tbody>\n",
       "</table>\n",
       "</div>"
      ]
     },
     "execution_count": 26,
     "metadata": {},
     "output_type": "execute_result"
    }
   ],
   "execution_count": 26
  },
  {
   "metadata": {
    "ExecuteTime": {
     "end_time": "2025-10-05T06:14:04.649220Z",
     "start_time": "2025-10-05T06:14:04.636490Z"
    }
   },
   "cell_type": "code",
   "source": "df.info()",
   "id": "65366b72ef20d949",
   "outputs": [
    {
     "name": "stdout",
     "output_type": "stream",
     "text": [
      "<class 'pandas.core.frame.DataFrame'>\n",
      "RangeIndex: 1156 entries, 0 to 1155\n",
      "Data columns (total 9 columns):\n",
      " #   Column      Non-Null Count  Dtype          \n",
      "---  ------      --------------  -----          \n",
      " 0   START_DATE  421 non-null    datetime64[ns] \n",
      " 1   END_DATE    420 non-null    datetime64[ns] \n",
      " 2   CATEGORY    1155 non-null   object         \n",
      " 3   START       1155 non-null   object         \n",
      " 4   STOP        1155 non-null   object         \n",
      " 5   MILES       1156 non-null   float64        \n",
      " 6   PURPOSE     1156 non-null   object         \n",
      " 7   DURATION    420 non-null    timedelta64[ns]\n",
      " 8   DURATION    420 non-null    timedelta64[ns]\n",
      "dtypes: datetime64[ns](2), float64(1), object(4), timedelta64[ns](2)\n",
      "memory usage: 81.4+ KB\n"
     ]
    }
   ],
   "execution_count": 27
  },
  {
   "metadata": {
    "ExecuteTime": {
     "end_time": "2025-10-05T06:14:57.579765Z",
     "start_time": "2025-10-05T06:14:57.572785Z"
    }
   },
   "cell_type": "code",
   "source": "df.isnull().sum()",
   "id": "a3115b6881ef486b",
   "outputs": [
    {
     "data": {
      "text/plain": [
       "START_DATE    735\n",
       "END_DATE      736\n",
       "CATEGORY        1\n",
       "START           1\n",
       "STOP            1\n",
       "MILES           0\n",
       "PURPOSE         0\n",
       "DURATION      736\n",
       "DURATION      736\n",
       "dtype: int64"
      ]
     },
     "execution_count": 28,
     "metadata": {},
     "output_type": "execute_result"
    }
   ],
   "execution_count": 28
  },
  {
   "metadata": {
    "ExecuteTime": {
     "end_time": "2025-10-05T06:22:58.923431Z",
     "start_time": "2025-10-05T06:22:58.915436Z"
    }
   },
   "cell_type": "code",
   "source": "df['START_DATE'].fillna('0')",
   "id": "9c97d2a156357efd",
   "outputs": [
    {
     "data": {
      "text/plain": [
       "0       2016-01-01 21:11:00\n",
       "1       2016-01-02 01:25:00\n",
       "2       2016-01-02 20:25:00\n",
       "3       2016-01-05 17:31:00\n",
       "4       2016-01-06 14:42:00\n",
       "               ...         \n",
       "1151            Missing_val\n",
       "1152            Missing_val\n",
       "1153            Missing_val\n",
       "1154            Missing_val\n",
       "1155            Missing_val\n",
       "Name: START_DATE, Length: 1156, dtype: object"
      ]
     },
     "execution_count": 48,
     "metadata": {},
     "output_type": "execute_result"
    }
   ],
   "execution_count": 48
  },
  {
   "metadata": {
    "ExecuteTime": {
     "end_time": "2025-10-05T06:23:24.238914Z",
     "start_time": "2025-10-05T06:23:24.231795Z"
    }
   },
   "cell_type": "code",
   "source": "df['END_DATE'].fillna('0')",
   "id": "d36871f43a0b2061",
   "outputs": [
    {
     "data": {
      "text/plain": [
       "0       2016-01-01 21:17:00\n",
       "1       2016-01-02 01:37:00\n",
       "2       2016-01-02 20:38:00\n",
       "3       2016-01-05 17:45:00\n",
       "4       2016-01-06 15:49:00\n",
       "               ...         \n",
       "1151                      0\n",
       "1152                      0\n",
       "1153                      0\n",
       "1154                      0\n",
       "1155                      0\n",
       "Name: END_DATE, Length: 1156, dtype: object"
      ]
     },
     "execution_count": 50,
     "metadata": {},
     "output_type": "execute_result"
    }
   ],
   "execution_count": 50
  },
  {
   "metadata": {
    "ExecuteTime": {
     "end_time": "2025-10-05T06:22:47.471303Z",
     "start_time": "2025-10-05T06:22:47.464783Z"
    }
   },
   "cell_type": "code",
   "source": "df['START'].fillna('0')",
   "id": "d680951665c4706c",
   "outputs": [
    {
     "data": {
      "text/plain": [
       "0            Fort Pierce\n",
       "1            Fort Pierce\n",
       "2            Fort Pierce\n",
       "3            Fort Pierce\n",
       "4            Fort Pierce\n",
       "              ...       \n",
       "1151             Kar?chi\n",
       "1152    Unknown Location\n",
       "1153          Katunayake\n",
       "1154             Gampaha\n",
       "1155                   0\n",
       "Name: START, Length: 1156, dtype: object"
      ]
     },
     "execution_count": 45,
     "metadata": {},
     "output_type": "execute_result"
    }
   ],
   "execution_count": 45
  },
  {
   "metadata": {
    "ExecuteTime": {
     "end_time": "2025-10-05T06:20:07.063301Z",
     "start_time": "2025-10-05T06:20:07.055280Z"
    }
   },
   "cell_type": "code",
   "source": "df['STOP'].fillna('0')",
   "id": "6eec84db429c5d89",
   "outputs": [
    {
     "data": {
      "text/plain": [
       "0            Fort Pierce\n",
       "1            Fort Pierce\n",
       "2            Fort Pierce\n",
       "3            Fort Pierce\n",
       "4        West Palm Beach\n",
       "              ...       \n",
       "1151    Unknown Location\n",
       "1152    Unknown Location\n",
       "1153             Gampaha\n",
       "1154           Ilukwatta\n",
       "1155                  NA\n",
       "Name: STOP, Length: 1156, dtype: object"
      ]
     },
     "execution_count": 38,
     "metadata": {},
     "output_type": "execute_result"
    }
   ],
   "execution_count": 38
  },
  {
   "metadata": {
    "ExecuteTime": {
     "end_time": "2025-10-05T06:22:45.153357Z",
     "start_time": "2025-10-05T06:22:45.146632Z"
    }
   },
   "cell_type": "code",
   "source": "df['CATEGORY'].fillna('0')",
   "id": "ad182c0dfc3e7178",
   "outputs": [
    {
     "data": {
      "text/plain": [
       "0       Business\n",
       "1       Business\n",
       "2       Business\n",
       "3       Business\n",
       "4       Business\n",
       "          ...   \n",
       "1151    Business\n",
       "1152    Business\n",
       "1153    Business\n",
       "1154    Business\n",
       "1155           0\n",
       "Name: CATEGORY, Length: 1156, dtype: object"
      ]
     },
     "execution_count": 44,
     "metadata": {},
     "output_type": "execute_result"
    }
   ],
   "execution_count": 44
  },
  {
   "metadata": {
    "ExecuteTime": {
     "end_time": "2025-10-05T06:22:41.249129Z",
     "start_time": "2025-10-05T06:22:41.241460Z"
    }
   },
   "cell_type": "code",
   "source": "df['DURATION '].fillna(\"0\")",
   "id": "37da786c0698fd93",
   "outputs": [
    {
     "data": {
      "text/plain": [
       "0      0 days 00:06:00\n",
       "1      0 days 00:12:00\n",
       "2      0 days 00:13:00\n",
       "3      0 days 00:14:00\n",
       "4      0 days 01:07:00\n",
       "             ...      \n",
       "1151   0 days 00:00:00\n",
       "1152   0 days 00:00:00\n",
       "1153   0 days 00:00:00\n",
       "1154   0 days 00:00:00\n",
       "1155   0 days 00:00:00\n",
       "Name: DURATION , Length: 1156, dtype: timedelta64[ns]"
      ]
     },
     "execution_count": 43,
     "metadata": {},
     "output_type": "execute_result"
    }
   ],
   "execution_count": 43
  },
  {
   "metadata": {
    "ExecuteTime": {
     "end_time": "2025-10-05T06:20:17.811257Z",
     "start_time": "2025-10-05T06:20:17.804286Z"
    }
   },
   "cell_type": "code",
   "source": "df.isnull().sum()",
   "id": "16a32d8e0825af09",
   "outputs": [
    {
     "data": {
      "text/plain": [
       "START_DATE      0\n",
       "END_DATE      736\n",
       "CATEGORY        1\n",
       "START           1\n",
       "STOP            1\n",
       "MILES           0\n",
       "PURPOSE         0\n",
       "DURATION      736\n",
       "DURATION      736\n",
       "dtype: int64"
      ]
     },
     "execution_count": 41,
     "metadata": {},
     "output_type": "execute_result"
    }
   ],
   "execution_count": 41
  },
  {
   "metadata": {
    "ExecuteTime": {
     "end_time": "2025-10-05T06:21:17.940974Z",
     "start_time": "2025-10-05T06:21:17.912143Z"
    }
   },
   "cell_type": "code",
   "source": "df.to_csv(r'D:\\datasets\\kaggle\\uber\\UberDataset_cleaned'r'.csv')",
   "id": "1422c2eb11f361a",
   "outputs": [],
   "execution_count": 42
  },
  {
   "metadata": {
    "ExecuteTime": {
     "end_time": "2025-10-05T06:23:31.308751Z",
     "start_time": "2025-10-05T06:23:31.301924Z"
    }
   },
   "cell_type": "code",
   "source": "df.isnull().sum()",
   "id": "99faf3ee2824ccd4",
   "outputs": [
    {
     "data": {
      "text/plain": [
       "START_DATE      0\n",
       "END_DATE      736\n",
       "CATEGORY        1\n",
       "START           1\n",
       "STOP            1\n",
       "MILES           0\n",
       "PURPOSE         0\n",
       "DURATION      736\n",
       "DURATION      736\n",
       "dtype: int64"
      ]
     },
     "execution_count": 51,
     "metadata": {},
     "output_type": "execute_result"
    }
   ],
   "execution_count": 51
  },
  {
   "metadata": {
    "ExecuteTime": {
     "end_time": "2025-10-05T06:23:39.865290Z",
     "start_time": "2025-10-05T06:23:39.853653Z"
    }
   },
   "cell_type": "code",
   "source": "df.info()",
   "id": "14a8bc1f72154dd7",
   "outputs": [
    {
     "name": "stdout",
     "output_type": "stream",
     "text": [
      "<class 'pandas.core.frame.DataFrame'>\n",
      "RangeIndex: 1156 entries, 0 to 1155\n",
      "Data columns (total 9 columns):\n",
      " #   Column      Non-Null Count  Dtype          \n",
      "---  ------      --------------  -----          \n",
      " 0   START_DATE  1156 non-null   object         \n",
      " 1   END_DATE    420 non-null    datetime64[ns] \n",
      " 2   CATEGORY    1155 non-null   object         \n",
      " 3   START       1155 non-null   object         \n",
      " 4   STOP        1155 non-null   object         \n",
      " 5   MILES       1156 non-null   float64        \n",
      " 6   PURPOSE     1156 non-null   object         \n",
      " 7   DURATION    420 non-null    timedelta64[ns]\n",
      " 8   DURATION    420 non-null    timedelta64[ns]\n",
      "dtypes: datetime64[ns](1), float64(1), object(5), timedelta64[ns](2)\n",
      "memory usage: 81.4+ KB\n"
     ]
    }
   ],
   "execution_count": 52
  },
  {
   "metadata": {
    "ExecuteTime": {
     "end_time": "2025-10-05T06:29:04.349172Z",
     "start_time": "2025-10-05T06:29:04.345225Z"
    }
   },
   "cell_type": "code",
   "source": "df['START_DATE']  = df['START_DATE'].fillna(df['END_DATE'])",
   "id": "8ca2af8aebefcb6b",
   "outputs": [],
   "execution_count": 68
  },
  {
   "metadata": {
    "ExecuteTime": {
     "end_time": "2025-10-05T06:29:06.246885Z",
     "start_time": "2025-10-05T06:29:06.239268Z"
    }
   },
   "cell_type": "code",
   "source": "df.isnull().sum()",
   "id": "d487e46c3e900f85",
   "outputs": [
    {
     "data": {
      "text/plain": [
       "START_DATE    735\n",
       "END_DATE      735\n",
       "CATEGORY        1\n",
       "START           1\n",
       "STOP            1\n",
       "MILES           0\n",
       "PURPOSE         0\n",
       "DURATION      735\n",
       "DURATION      736\n",
       "dtype: int64"
      ]
     },
     "execution_count": 69,
     "metadata": {},
     "output_type": "execute_result"
    }
   ],
   "execution_count": 69
  },
  {
   "metadata": {
    "ExecuteTime": {
     "end_time": "2025-10-05T06:29:12.275949Z",
     "start_time": "2025-10-05T06:29:12.271907Z"
    }
   },
   "cell_type": "code",
   "source": "df['END_DATE']  = df['END_DATE'].fillna(df['START_DATE'])",
   "id": "5999f837d4044c4d",
   "outputs": [],
   "execution_count": 70
  },
  {
   "metadata": {
    "ExecuteTime": {
     "end_time": "2025-10-05T06:29:24.741454Z",
     "start_time": "2025-10-05T06:29:24.737058Z"
    }
   },
   "cell_type": "code",
   "source": "df['DURATION']  =  df['DURATION'].fillna(df['END_DATE'] - df['START_DATE'])",
   "id": "5b0c14ae98cc44b",
   "outputs": [],
   "execution_count": 73
  },
  {
   "metadata": {
    "ExecuteTime": {
     "end_time": "2025-10-05T06:29:19.707306Z",
     "start_time": "2025-10-05T06:29:19.699941Z"
    }
   },
   "cell_type": "code",
   "source": "df.isnull().sum()",
   "id": "9a7c4616b737ff06",
   "outputs": [
    {
     "data": {
      "text/plain": [
       "START_DATE    735\n",
       "END_DATE      735\n",
       "CATEGORY        1\n",
       "START           1\n",
       "STOP            1\n",
       "MILES           0\n",
       "PURPOSE         0\n",
       "DURATION      735\n",
       "DURATION      736\n",
       "dtype: int64"
      ]
     },
     "execution_count": 72,
     "metadata": {},
     "output_type": "execute_result"
    }
   ],
   "execution_count": 72
  },
  {
   "metadata": {
    "ExecuteTime": {
     "end_time": "2025-10-05T06:29:43.700374Z",
     "start_time": "2025-10-05T06:29:43.690358Z"
    }
   },
   "cell_type": "code",
   "source": "df.info()",
   "id": "8e089398953493cf",
   "outputs": [
    {
     "name": "stdout",
     "output_type": "stream",
     "text": [
      "<class 'pandas.core.frame.DataFrame'>\n",
      "RangeIndex: 1156 entries, 0 to 1155\n",
      "Data columns (total 9 columns):\n",
      " #   Column      Non-Null Count  Dtype          \n",
      "---  ------      --------------  -----          \n",
      " 0   START_DATE  421 non-null    datetime64[ns] \n",
      " 1   END_DATE    421 non-null    datetime64[ns] \n",
      " 2   CATEGORY    1155 non-null   object         \n",
      " 3   START       1155 non-null   object         \n",
      " 4   STOP        1155 non-null   object         \n",
      " 5   MILES       1156 non-null   float64        \n",
      " 6   PURPOSE     1156 non-null   object         \n",
      " 7   DURATION    421 non-null    timedelta64[ns]\n",
      " 8   DURATION    420 non-null    timedelta64[ns]\n",
      "dtypes: datetime64[ns](2), float64(1), object(4), timedelta64[ns](2)\n",
      "memory usage: 81.4+ KB\n"
     ]
    }
   ],
   "execution_count": 74
  },
  {
   "metadata": {
    "ExecuteTime": {
     "end_time": "2025-10-05T06:30:13.960418Z",
     "start_time": "2025-10-05T06:30:13.949850Z"
    }
   },
   "cell_type": "code",
   "source": "df.dtypes",
   "id": "ea95e31b7becdf3b",
   "outputs": [
    {
     "data": {
      "text/plain": [
       "START_DATE     datetime64[ns]\n",
       "END_DATE       datetime64[ns]\n",
       "CATEGORY               object\n",
       "START                  object\n",
       "STOP                   object\n",
       "MILES                 float64\n",
       "PURPOSE                object\n",
       "DURATION      timedelta64[ns]\n",
       "DURATION      timedelta64[ns]\n",
       "dtype: object"
      ]
     },
     "execution_count": 75,
     "metadata": {},
     "output_type": "execute_result"
    }
   ],
   "execution_count": 75
  },
  {
   "metadata": {
    "ExecuteTime": {
     "end_time": "2025-10-05T06:31:20.124474Z",
     "start_time": "2025-10-05T06:31:20.119384Z"
    }
   },
   "cell_type": "code",
   "source": [
    "# Compute DURATION only for missing values\n",
    "df['DURATION'] = df['DURATION'].fillna(df['END_DATE'] - df['START_DATE'])\n",
    "\n"
   ],
   "id": "88338f8a5707133d",
   "outputs": [],
   "execution_count": 76
  },
  {
   "metadata": {
    "ExecuteTime": {
     "end_time": "2025-10-05T06:37:31.859660Z",
     "start_time": "2025-10-05T06:37:31.785137Z"
    }
   },
   "cell_type": "code",
   "source": "",
   "id": "ad359145bb544e26",
   "outputs": [
    {
     "ename": "KeyError",
     "evalue": "'DURATION'",
     "output_type": "error",
     "traceback": [
      "\u001B[31m---------------------------------------------------------------------------\u001B[39m",
      "\u001B[31mKeyError\u001B[39m                                  Traceback (most recent call last)",
      "\u001B[36mFile \u001B[39m\u001B[32mD:\\New folder\\.venv\\Lib\\site-packages\\pandas\\core\\indexes\\base.py:3812\u001B[39m, in \u001B[36mIndex.get_loc\u001B[39m\u001B[34m(self, key)\u001B[39m\n\u001B[32m   3811\u001B[39m \u001B[38;5;28;01mtry\u001B[39;00m:\n\u001B[32m-> \u001B[39m\u001B[32m3812\u001B[39m     \u001B[38;5;28;01mreturn\u001B[39;00m \u001B[38;5;28;43mself\u001B[39;49m\u001B[43m.\u001B[49m\u001B[43m_engine\u001B[49m\u001B[43m.\u001B[49m\u001B[43mget_loc\u001B[49m\u001B[43m(\u001B[49m\u001B[43mcasted_key\u001B[49m\u001B[43m)\u001B[49m\n\u001B[32m   3813\u001B[39m \u001B[38;5;28;01mexcept\u001B[39;00m \u001B[38;5;167;01mKeyError\u001B[39;00m \u001B[38;5;28;01mas\u001B[39;00m err:\n",
      "\u001B[36mFile \u001B[39m\u001B[32mpandas/_libs/index.pyx:167\u001B[39m, in \u001B[36mpandas._libs.index.IndexEngine.get_loc\u001B[39m\u001B[34m()\u001B[39m\n",
      "\u001B[36mFile \u001B[39m\u001B[32mpandas/_libs/index.pyx:196\u001B[39m, in \u001B[36mpandas._libs.index.IndexEngine.get_loc\u001B[39m\u001B[34m()\u001B[39m\n",
      "\u001B[36mFile \u001B[39m\u001B[32mpandas/_libs/hashtable_class_helper.pxi:7088\u001B[39m, in \u001B[36mpandas._libs.hashtable.PyObjectHashTable.get_item\u001B[39m\u001B[34m()\u001B[39m\n",
      "\u001B[36mFile \u001B[39m\u001B[32mpandas/_libs/hashtable_class_helper.pxi:7096\u001B[39m, in \u001B[36mpandas._libs.hashtable.PyObjectHashTable.get_item\u001B[39m\u001B[34m()\u001B[39m\n",
      "\u001B[31mKeyError\u001B[39m: 'DURATION'",
      "\nThe above exception was the direct cause of the following exception:\n",
      "\u001B[31mKeyError\u001B[39m                                  Traceback (most recent call last)",
      "\u001B[36mCell\u001B[39m\u001B[36m \u001B[39m\u001B[32mIn[93]\u001B[39m\u001B[32m, line 2\u001B[39m\n\u001B[32m      1\u001B[39m \u001B[38;5;66;03m# Ensure DURATION is timedelta\u001B[39;00m\n\u001B[32m----> \u001B[39m\u001B[32m2\u001B[39m df[\u001B[33m'\u001B[39m\u001B[33mDURATION\u001B[39m\u001B[33m'\u001B[39m] = pd.to_timedelta(\u001B[43mdf\u001B[49m\u001B[43m[\u001B[49m\u001B[33;43m'\u001B[39;49m\u001B[33;43mDURATION\u001B[39;49m\u001B[33;43m'\u001B[39;49m\u001B[43m]\u001B[49m)\n\u001B[32m      4\u001B[39m \u001B[38;5;66;03m# Compute mean of existing durations\u001B[39;00m\n\u001B[32m      5\u001B[39m mean_duration = df[\u001B[33m'\u001B[39m\u001B[33mDURATION\u001B[39m\u001B[33m'\u001B[39m].mean()\n",
      "\u001B[36mFile \u001B[39m\u001B[32mD:\\New folder\\.venv\\Lib\\site-packages\\pandas\\core\\frame.py:4113\u001B[39m, in \u001B[36mDataFrame.__getitem__\u001B[39m\u001B[34m(self, key)\u001B[39m\n\u001B[32m   4111\u001B[39m \u001B[38;5;28;01mif\u001B[39;00m \u001B[38;5;28mself\u001B[39m.columns.nlevels > \u001B[32m1\u001B[39m:\n\u001B[32m   4112\u001B[39m     \u001B[38;5;28;01mreturn\u001B[39;00m \u001B[38;5;28mself\u001B[39m._getitem_multilevel(key)\n\u001B[32m-> \u001B[39m\u001B[32m4113\u001B[39m indexer = \u001B[38;5;28;43mself\u001B[39;49m\u001B[43m.\u001B[49m\u001B[43mcolumns\u001B[49m\u001B[43m.\u001B[49m\u001B[43mget_loc\u001B[49m\u001B[43m(\u001B[49m\u001B[43mkey\u001B[49m\u001B[43m)\u001B[49m\n\u001B[32m   4114\u001B[39m \u001B[38;5;28;01mif\u001B[39;00m is_integer(indexer):\n\u001B[32m   4115\u001B[39m     indexer = [indexer]\n",
      "\u001B[36mFile \u001B[39m\u001B[32mD:\\New folder\\.venv\\Lib\\site-packages\\pandas\\core\\indexes\\base.py:3819\u001B[39m, in \u001B[36mIndex.get_loc\u001B[39m\u001B[34m(self, key)\u001B[39m\n\u001B[32m   3814\u001B[39m     \u001B[38;5;28;01mif\u001B[39;00m \u001B[38;5;28misinstance\u001B[39m(casted_key, \u001B[38;5;28mslice\u001B[39m) \u001B[38;5;129;01mor\u001B[39;00m (\n\u001B[32m   3815\u001B[39m         \u001B[38;5;28misinstance\u001B[39m(casted_key, abc.Iterable)\n\u001B[32m   3816\u001B[39m         \u001B[38;5;129;01mand\u001B[39;00m \u001B[38;5;28many\u001B[39m(\u001B[38;5;28misinstance\u001B[39m(x, \u001B[38;5;28mslice\u001B[39m) \u001B[38;5;28;01mfor\u001B[39;00m x \u001B[38;5;129;01min\u001B[39;00m casted_key)\n\u001B[32m   3817\u001B[39m     ):\n\u001B[32m   3818\u001B[39m         \u001B[38;5;28;01mraise\u001B[39;00m InvalidIndexError(key)\n\u001B[32m-> \u001B[39m\u001B[32m3819\u001B[39m     \u001B[38;5;28;01mraise\u001B[39;00m \u001B[38;5;167;01mKeyError\u001B[39;00m(key) \u001B[38;5;28;01mfrom\u001B[39;00m\u001B[38;5;250m \u001B[39m\u001B[34;01merr\u001B[39;00m\n\u001B[32m   3820\u001B[39m \u001B[38;5;28;01mexcept\u001B[39;00m \u001B[38;5;167;01mTypeError\u001B[39;00m:\n\u001B[32m   3821\u001B[39m     \u001B[38;5;66;03m# If we have a listlike key, _check_indexing_error will raise\u001B[39;00m\n\u001B[32m   3822\u001B[39m     \u001B[38;5;66;03m#  InvalidIndexError. Otherwise we fall through and re-raise\u001B[39;00m\n\u001B[32m   3823\u001B[39m     \u001B[38;5;66;03m#  the TypeError.\u001B[39;00m\n\u001B[32m   3824\u001B[39m     \u001B[38;5;28mself\u001B[39m._check_indexing_error(key)\n",
      "\u001B[31mKeyError\u001B[39m: 'DURATION'"
     ]
    }
   ],
   "execution_count": 93
  },
  {
   "metadata": {
    "ExecuteTime": {
     "end_time": "2025-10-05T06:33:19.049081Z",
     "start_time": "2025-10-05T06:33:19.042223Z"
    }
   },
   "cell_type": "code",
   "source": "df.isnull().sum()",
   "id": "4f9351ac9cdd09d9",
   "outputs": [
    {
     "data": {
      "text/plain": [
       "START_DATE    735\n",
       "END_DATE      735\n",
       "CATEGORY        1\n",
       "START           1\n",
       "STOP            1\n",
       "MILES           0\n",
       "PURPOSE         0\n",
       "DURATION        0\n",
       "DURATION      736\n",
       "dtype: int64"
      ]
     },
     "execution_count": 81,
     "metadata": {},
     "output_type": "execute_result"
    }
   ],
   "execution_count": 81
  },
  {
   "metadata": {
    "ExecuteTime": {
     "end_time": "2025-10-05T06:34:10.219108Z",
     "start_time": "2025-10-05T06:34:10.214521Z"
    }
   },
   "cell_type": "code",
   "source": [
    "\n",
    "\n",
    "# Fill missing START_DATE / END_DATE with a fixed date\n",
    "df['START_DATE'] = df['START_DATE'].fillna(pd.Timestamp('2025-01-01'))\n",
    "df['END_DATE'] = df['END_DATE'].fillna(pd.Timestamp('2025-01-01') + pd.Timedelta(hours=1))\n"
   ],
   "id": "d6d10f7d7f0b7186",
   "outputs": [],
   "execution_count": 84
  },
  {
   "metadata": {
    "ExecuteTime": {
     "end_time": "2025-10-05T06:34:18.209056Z",
     "start_time": "2025-10-05T06:34:18.199506Z"
    }
   },
   "cell_type": "code",
   "source": "df.isnull().sum()",
   "id": "1ed27afbe7abc628",
   "outputs": [
    {
     "data": {
      "text/plain": [
       "START_DATE      0\n",
       "END_DATE        0\n",
       "CATEGORY        1\n",
       "START           1\n",
       "STOP            1\n",
       "MILES           0\n",
       "PURPOSE         0\n",
       "DURATION        0\n",
       "DURATION      736\n",
       "dtype: int64"
      ]
     },
     "execution_count": 85,
     "metadata": {},
     "output_type": "execute_result"
    }
   ],
   "execution_count": 85
  },
  {
   "metadata": {
    "ExecuteTime": {
     "end_time": "2025-10-05T06:38:54.036868Z",
     "start_time": "2025-10-05T06:38:54.030943Z"
    }
   },
   "cell_type": "code",
   "source": [
    "# Ensure DURATION is timedelta\n",
    "df['DURATION'] = pd.to_timedelta(df['DURATION'])\n",
    "\n",
    "# Compute mean of existing durations\n",
    "mean_duration = df['DURATION'].mean()\n",
    "print(\"Mean Duration:\", mean_duration)\n",
    "df['DURATION'] = df['DURATION'].fillna(mean_duration)\n"
   ],
   "id": "62de5ba17f16d284",
   "outputs": [
    {
     "name": "stdout",
     "output_type": "stream",
     "text": [
      "Mean Duration: 0 days 00:19:19.571428571\n"
     ]
    }
   ],
   "execution_count": 97
  },
  {
   "metadata": {
    "ExecuteTime": {
     "end_time": "2025-10-05T06:39:17.894530Z",
     "start_time": "2025-10-05T06:39:17.887867Z"
    }
   },
   "cell_type": "code",
   "source": "df.isnull().sum()",
   "id": "b1b3649778c4fc50",
   "outputs": [
    {
     "data": {
      "text/plain": [
       "START_DATE    0\n",
       "END_DATE      0\n",
       "CATEGORY      1\n",
       "START         1\n",
       "STOP          1\n",
       "MILES         0\n",
       "PURPOSE       0\n",
       "DURATION      0\n",
       "dtype: int64"
      ]
     },
     "execution_count": 98,
     "metadata": {},
     "output_type": "execute_result"
    }
   ],
   "execution_count": 98
  },
  {
   "metadata": {
    "ExecuteTime": {
     "end_time": "2025-10-05T06:45:52.420099Z",
     "start_time": "2025-10-05T06:45:52.391901Z"
    }
   },
   "cell_type": "code",
   "source": "df.to_csv(r'D:\\datasets\\kaggle\\uber\\trips_cleaned.csv')",
   "id": "fba2e139755a3a89",
   "outputs": [],
   "execution_count": 101
  }
 ],
 "metadata": {
  "kernelspec": {
   "display_name": "Python 3",
   "language": "python",
   "name": "python3"
  },
  "language_info": {
   "codemirror_mode": {
    "name": "ipython",
    "version": 2
   },
   "file_extension": ".py",
   "mimetype": "text/x-python",
   "name": "python",
   "nbconvert_exporter": "python",
   "pygments_lexer": "ipython2",
   "version": "2.7.6"
  }
 },
 "nbformat": 4,
 "nbformat_minor": 5
}
